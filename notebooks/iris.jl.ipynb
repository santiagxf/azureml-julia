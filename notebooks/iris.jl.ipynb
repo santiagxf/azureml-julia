{
  "cells": [
    {
      "cell_type": "code",
      "source": [
        "using Pkg\r\n",
        "\r\n",
        "Pkg.add([\"CSV\",\"DataFrames\",\"DecisionTree\", \"Plots\", \"JLD2\"])\r\n",
        "Pkg.add(\"CategoricalArrays\")"
      ],
      "outputs": [
        {
          "output_type": "stream",
          "name": "stderr",
          "text": "\u001b[32m\u001b[1m   Resolving\u001b[22m\u001b[39m package versions...\n"
        }
      ],
      "execution_count": 93,
      "metadata": {}
    },
    {
      "cell_type": "code",
      "source": [
        "using CSV, DataFrames, Plots, DecisionTree"
      ],
      "outputs": [],
      "execution_count": 1,
      "metadata": {
        "jupyter": {
          "source_hidden": false,
          "outputs_hidden": false
        },
        "nteract": {
          "transient": {
            "deleting": false
          }
        }
      }
    },
    {
      "cell_type": "code",
      "source": [
        "input_dataset = \"https://azuremlexamples.blob.core.windows.net/datasets/iris.csv\"\r\n",
        "df = CSV.read(download(input_dataset), DataFrame)"
      ],
      "outputs": [
        {
          "output_type": "execute_result",
          "execution_count": 2,
          "data": {
            "text/plain": "\u001b[1m150×5 DataFrame\u001b[0m\n\u001b[1m Row \u001b[0m│\u001b[1m sepal_length \u001b[0m\u001b[1m sepal_width \u001b[0m\u001b[1m petal_length \u001b[0m\u001b[1m petal_width \u001b[0m\u001b[1m species        \u001b[0m\n\u001b[1m     \u001b[0m│\u001b[90m Float64      \u001b[0m\u001b[90m Float64     \u001b[0m\u001b[90m Float64      \u001b[0m\u001b[90m Float64     \u001b[0m\u001b[90m String15       \u001b[0m\n─────┼──────────────────────────────────────────────────────────────────────\n   1 │          5.1          3.5           1.4          0.2  Iris-setosa\n   2 │          4.9          3.0           1.4          0.2  Iris-setosa\n   3 │          4.7          3.2           1.3          0.2  Iris-setosa\n   4 │          4.6          3.1           1.5          0.2  Iris-setosa\n   5 │          5.0          3.6           1.4          0.2  Iris-setosa\n   6 │          5.4          3.9           1.7          0.4  Iris-setosa\n   7 │          4.6          3.4           1.4          0.3  Iris-setosa\n   8 │          5.0          3.4           1.5          0.2  Iris-setosa\n   9 │          4.4          2.9           1.4          0.2  Iris-setosa\n  10 │          4.9          3.1           1.5          0.1  Iris-setosa\n  11 │          5.4          3.7           1.5          0.2  Iris-setosa\n  ⋮  │      ⋮             ⋮            ⋮             ⋮             ⋮\n 141 │          6.7          3.1           5.6          2.4  Iris-virginica\n 142 │          6.9          3.1           5.1          2.3  Iris-virginica\n 143 │          5.8          2.7           5.1          1.9  Iris-virginica\n 144 │          6.8          3.2           5.9          2.3  Iris-virginica\n 145 │          6.7          3.3           5.7          2.5  Iris-virginica\n 146 │          6.7          3.0           5.2          2.3  Iris-virginica\n 147 │          6.3          2.5           5.0          1.9  Iris-virginica\n 148 │          6.5          3.0           5.2          2.0  Iris-virginica\n 149 │          6.2          3.4           5.4          2.3  Iris-virginica\n 150 │          5.9          3.0           5.1          1.8  Iris-virginica\n\u001b[36m                                                            129 rows omitted\u001b[0m",
            "text/html": "<div class=\"data-frame\"><p>150 rows × 5 columns</p><table class=\"data-frame\"><thead><tr><th></th><th>sepal_length</th><th>sepal_width</th><th>petal_length</th><th>petal_width</th><th>species</th></tr><tr><th></th><th title=\"Float64\">Float64</th><th title=\"Float64\">Float64</th><th title=\"Float64\">Float64</th><th title=\"Float64\">Float64</th><th title=\"String15\">String15</th></tr></thead><tbody><tr><th>1</th><td>5.1</td><td>3.5</td><td>1.4</td><td>0.2</td><td>Iris-setosa</td></tr><tr><th>2</th><td>4.9</td><td>3.0</td><td>1.4</td><td>0.2</td><td>Iris-setosa</td></tr><tr><th>3</th><td>4.7</td><td>3.2</td><td>1.3</td><td>0.2</td><td>Iris-setosa</td></tr><tr><th>4</th><td>4.6</td><td>3.1</td><td>1.5</td><td>0.2</td><td>Iris-setosa</td></tr><tr><th>5</th><td>5.0</td><td>3.6</td><td>1.4</td><td>0.2</td><td>Iris-setosa</td></tr><tr><th>6</th><td>5.4</td><td>3.9</td><td>1.7</td><td>0.4</td><td>Iris-setosa</td></tr><tr><th>7</th><td>4.6</td><td>3.4</td><td>1.4</td><td>0.3</td><td>Iris-setosa</td></tr><tr><th>8</th><td>5.0</td><td>3.4</td><td>1.5</td><td>0.2</td><td>Iris-setosa</td></tr><tr><th>9</th><td>4.4</td><td>2.9</td><td>1.4</td><td>0.2</td><td>Iris-setosa</td></tr><tr><th>10</th><td>4.9</td><td>3.1</td><td>1.5</td><td>0.1</td><td>Iris-setosa</td></tr><tr><th>11</th><td>5.4</td><td>3.7</td><td>1.5</td><td>0.2</td><td>Iris-setosa</td></tr><tr><th>12</th><td>4.8</td><td>3.4</td><td>1.6</td><td>0.2</td><td>Iris-setosa</td></tr><tr><th>13</th><td>4.8</td><td>3.0</td><td>1.4</td><td>0.1</td><td>Iris-setosa</td></tr><tr><th>14</th><td>4.3</td><td>3.0</td><td>1.1</td><td>0.1</td><td>Iris-setosa</td></tr><tr><th>15</th><td>5.8</td><td>4.0</td><td>1.2</td><td>0.2</td><td>Iris-setosa</td></tr><tr><th>16</th><td>5.7</td><td>4.4</td><td>1.5</td><td>0.4</td><td>Iris-setosa</td></tr><tr><th>17</th><td>5.4</td><td>3.9</td><td>1.3</td><td>0.4</td><td>Iris-setosa</td></tr><tr><th>18</th><td>5.1</td><td>3.5</td><td>1.4</td><td>0.3</td><td>Iris-setosa</td></tr><tr><th>19</th><td>5.7</td><td>3.8</td><td>1.7</td><td>0.3</td><td>Iris-setosa</td></tr><tr><th>20</th><td>5.1</td><td>3.8</td><td>1.5</td><td>0.3</td><td>Iris-setosa</td></tr><tr><th>21</th><td>5.4</td><td>3.4</td><td>1.7</td><td>0.2</td><td>Iris-setosa</td></tr><tr><th>22</th><td>5.1</td><td>3.7</td><td>1.5</td><td>0.4</td><td>Iris-setosa</td></tr><tr><th>23</th><td>4.6</td><td>3.6</td><td>1.0</td><td>0.2</td><td>Iris-setosa</td></tr><tr><th>24</th><td>5.1</td><td>3.3</td><td>1.7</td><td>0.5</td><td>Iris-setosa</td></tr><tr><th>25</th><td>4.8</td><td>3.4</td><td>1.9</td><td>0.2</td><td>Iris-setosa</td></tr><tr><th>26</th><td>5.0</td><td>3.0</td><td>1.6</td><td>0.2</td><td>Iris-setosa</td></tr><tr><th>27</th><td>5.0</td><td>3.4</td><td>1.6</td><td>0.4</td><td>Iris-setosa</td></tr><tr><th>28</th><td>5.2</td><td>3.5</td><td>1.5</td><td>0.2</td><td>Iris-setosa</td></tr><tr><th>29</th><td>5.2</td><td>3.4</td><td>1.4</td><td>0.2</td><td>Iris-setosa</td></tr><tr><th>30</th><td>4.7</td><td>3.2</td><td>1.6</td><td>0.2</td><td>Iris-setosa</td></tr><tr><th>&vellip;</th><td>&vellip;</td><td>&vellip;</td><td>&vellip;</td><td>&vellip;</td><td>&vellip;</td></tr></tbody></table></div>",
            "text/latex": "\\begin{tabular}{r|ccccc}\n\t& sepal\\_length & sepal\\_width & petal\\_length & petal\\_width & species\\\\\n\t\\hline\n\t& Float64 & Float64 & Float64 & Float64 & String15\\\\\n\t\\hline\n\t1 & 5.1 & 3.5 & 1.4 & 0.2 & Iris-setosa \\\\\n\t2 & 4.9 & 3.0 & 1.4 & 0.2 & Iris-setosa \\\\\n\t3 & 4.7 & 3.2 & 1.3 & 0.2 & Iris-setosa \\\\\n\t4 & 4.6 & 3.1 & 1.5 & 0.2 & Iris-setosa \\\\\n\t5 & 5.0 & 3.6 & 1.4 & 0.2 & Iris-setosa \\\\\n\t6 & 5.4 & 3.9 & 1.7 & 0.4 & Iris-setosa \\\\\n\t7 & 4.6 & 3.4 & 1.4 & 0.3 & Iris-setosa \\\\\n\t8 & 5.0 & 3.4 & 1.5 & 0.2 & Iris-setosa \\\\\n\t9 & 4.4 & 2.9 & 1.4 & 0.2 & Iris-setosa \\\\\n\t10 & 4.9 & 3.1 & 1.5 & 0.1 & Iris-setosa \\\\\n\t11 & 5.4 & 3.7 & 1.5 & 0.2 & Iris-setosa \\\\\n\t12 & 4.8 & 3.4 & 1.6 & 0.2 & Iris-setosa \\\\\n\t13 & 4.8 & 3.0 & 1.4 & 0.1 & Iris-setosa \\\\\n\t14 & 4.3 & 3.0 & 1.1 & 0.1 & Iris-setosa \\\\\n\t15 & 5.8 & 4.0 & 1.2 & 0.2 & Iris-setosa \\\\\n\t16 & 5.7 & 4.4 & 1.5 & 0.4 & Iris-setosa \\\\\n\t17 & 5.4 & 3.9 & 1.3 & 0.4 & Iris-setosa \\\\\n\t18 & 5.1 & 3.5 & 1.4 & 0.3 & Iris-setosa \\\\\n\t19 & 5.7 & 3.8 & 1.7 & 0.3 & Iris-setosa \\\\\n\t20 & 5.1 & 3.8 & 1.5 & 0.3 & Iris-setosa \\\\\n\t21 & 5.4 & 3.4 & 1.7 & 0.2 & Iris-setosa \\\\\n\t22 & 5.1 & 3.7 & 1.5 & 0.4 & Iris-setosa \\\\\n\t23 & 4.6 & 3.6 & 1.0 & 0.2 & Iris-setosa \\\\\n\t24 & 5.1 & 3.3 & 1.7 & 0.5 & Iris-setosa \\\\\n\t25 & 4.8 & 3.4 & 1.9 & 0.2 & Iris-setosa \\\\\n\t26 & 5.0 & 3.0 & 1.6 & 0.2 & Iris-setosa \\\\\n\t27 & 5.0 & 3.4 & 1.6 & 0.4 & Iris-setosa \\\\\n\t28 & 5.2 & 3.5 & 1.5 & 0.2 & Iris-setosa \\\\\n\t29 & 5.2 & 3.4 & 1.4 & 0.2 & Iris-setosa \\\\\n\t30 & 4.7 & 3.2 & 1.6 & 0.2 & Iris-setosa \\\\\n\t$\\dots$ & $\\dots$ & $\\dots$ & $\\dots$ & $\\dots$ & $\\dots$ \\\\\n\\end{tabular}\n"
          },
          "metadata": {}
        }
      ],
      "execution_count": 2,
      "metadata": {
        "jupyter": {
          "source_hidden": false,
          "outputs_hidden": false
        },
        "nteract": {
          "transient": {
            "deleting": false
          }
        }
      }
    },
    {
      "cell_type": "code",
      "source": [
        "using DecisionTree\r\n",
        "using CategoricalArrays"
      ],
      "outputs": [],
      "execution_count": 3,
      "metadata": {
        "jupyter": {
          "source_hidden": false,
          "outputs_hidden": false
        },
        "nteract": {
          "transient": {
            "deleting": false
          }
        }
      }
    },
    {
      "cell_type": "code",
      "source": [
        "features = Matrix(df[:, 1:4])\r\n",
        "labels = categorical(df[:, 5])"
      ],
      "outputs": [
        {
          "output_type": "execute_result",
          "execution_count": 14,
          "data": {
            "text/plain": "150-element CategoricalArray{String15,1,UInt32}:\n \"Iris-setosa\"\n \"Iris-setosa\"\n \"Iris-setosa\"\n \"Iris-setosa\"\n \"Iris-setosa\"\n \"Iris-setosa\"\n \"Iris-setosa\"\n \"Iris-setosa\"\n \"Iris-setosa\"\n \"Iris-setosa\"\n \"Iris-setosa\"\n \"Iris-setosa\"\n \"Iris-setosa\"\n ⋮\n \"Iris-virginica\"\n \"Iris-virginica\"\n \"Iris-virginica\"\n \"Iris-virginica\"\n \"Iris-virginica\"\n \"Iris-virginica\"\n \"Iris-virginica\"\n \"Iris-virginica\"\n \"Iris-virginica\"\n \"Iris-virginica\"\n \"Iris-virginica\"\n \"Iris-virginica\""
          },
          "metadata": {}
        }
      ],
      "execution_count": 14,
      "metadata": {
        "jupyter": {
          "source_hidden": false,
          "outputs_hidden": false
        },
        "nteract": {
          "transient": {
            "deleting": false
          }
        }
      }
    },
    {
      "cell_type": "code",
      "source": [
        "# train adaptive-boosted stumps, using 7 iterations\r\n",
        "model, coeffs = build_adaboost_stumps(labels, features, 7);"
      ],
      "outputs": [],
      "execution_count": 15,
      "metadata": {
        "jupyter": {
          "source_hidden": false,
          "outputs_hidden": false
        },
        "nteract": {
          "transient": {
            "deleting": false
          }
        }
      }
    },
    {
      "cell_type": "code",
      "source": [
        "# Quick test\r\n",
        "sample = [5.9,3.0,5.1,1.9]\r\n",
        "apply_adaboost_stumps(model, coeffs, sample)"
      ],
      "outputs": [
        {
          "output_type": "execute_result",
          "execution_count": 16,
          "data": {
            "text/plain": "CategoricalValue{String15, UInt32} \"Iris-virginica\""
          },
          "metadata": {}
        }
      ],
      "execution_count": 16,
      "metadata": {
        "jupyter": {
          "source_hidden": false,
          "outputs_hidden": false
        },
        "nteract": {
          "transient": {
            "deleting": false
          }
        }
      }
    },
    {
      "cell_type": "code",
      "source": [
        "apply_adaboost_stumps_proba(model, coeffs, sample, categorical(levels(labels)))"
      ],
      "outputs": [
        {
          "output_type": "execute_result",
          "execution_count": 18,
          "data": {
            "text/plain": "3-element Vector{Float64}:\n 0.0\n 0.2806601104805074\n 0.7193398895194926"
          },
          "metadata": {}
        }
      ],
      "execution_count": 18,
      "metadata": {
        "jupyter": {
          "source_hidden": false,
          "outputs_hidden": false
        },
        "nteract": {
          "transient": {
            "deleting": false
          }
        }
      }
    },
    {
      "cell_type": "code",
      "source": [
        "# run n-fold cross validation for boosted stumps, using 7 iterations and 3 folds\r\n",
        "accuracy = nfoldCV_stumps(labels, features, 7, 3)"
      ],
      "outputs": [
        {
          "output_type": "display_data",
          "data": {
            "text/plain": "3×3 Matrix{Int64}:\n 6  0  0\n 0  5  0\n 0  1  9"
          },
          "metadata": {}
        },
        {
          "output_type": "display_data",
          "data": {
            "text/plain": "3×3 Matrix{Int64}:\n 7  0  0\n 0  9  1\n 0  0  4"
          },
          "metadata": {}
        },
        {
          "output_type": "display_data",
          "data": {
            "text/plain": "3×3 Matrix{Int64}:\n 9  0  0\n 0  5  0\n 0  2  5"
          },
          "metadata": {}
        },
        {
          "output_type": "display_data",
          "data": {
            "text/plain": "3×3 Matrix{Int64}:\n 6  0  0\n 0  6  1\n 0  1  7"
          },
          "metadata": {}
        },
        {
          "output_type": "display_data",
          "data": {
            "text/plain": "3×3 Matrix{Int64}:\n 7  0  0\n 0  6  0\n 0  1  7"
          },
          "metadata": {}
        },
        {
          "output_type": "stream",
          "name": "stdout",
          "text": "\nAccuracy: 0.8095238095238095\nKappa:    0.7083333333333333\n\nMean Accuracy: 0.9387755102040816\n\nFold 1\nClasses:  String15[\"Iris-setosa\", \"Iris-versicolor\", \"Iris-virginica\"]\nMatrix:   \nAccuracy: 0.9523809523809523\nKappa:    0.9263157894736841\n\nFold 2\nClasses:  String15[\"Iris-setosa\", \"Iris-versicolor\", \"Iris-virginica\"]\nMatrix:   \nAccuracy: 0.9523809523809523\nKappa:    0.925531914893617\n\nFold 3\nClasses:  String15[\"Iris-setosa\", \"Iris-versicolor\", \"Iris-virginica\"]\nMatrix:   \nAccuracy: 0.9047619047619048\nKappa:    0.8551724137931035\n\nFold 4\nClasses:  String15[\"Iris-setosa\", \"Iris-versicolor\", \"Iris-virginica\"]\nMatrix:   \nAccuracy: 0.9047619047619048\nKappa:    0.8561643835616438\n\nFold 5\nClasses:  String15[\"Iris-setosa\", \"Iris-versicolor\", \"Iris-virginica\"]\nMatrix:   \nAccuracy: 0.9523809523809523\nKappa:    0.9285714285714285\n\nFold 6\nClasses:  String15[\"Iris-setosa\", \"Iris-versicolor\", \"Iris-virginica\"]\nMatrix:   \nAccuracy: 0.8571428571428571\nKappa:    0.7789473684210524\n\nFold 7\nClasses:  String15[\"Iris-setosa\", \"Iris-versicolor\", \"Iris-virginica\"]\nMatrix:   \nAccuracy: 0.9047619047619048\nKappa:    0.8561643835616438\n\nMean Accuracy: 0.9183673469387754\n"
        },
        {
          "output_type": "execute_result",
          "execution_count": 19,
          "data": {
            "text/plain": "7-element Vector{Float64}:\n 0.9523809523809523\n 0.9523809523809523\n 0.9047619047619048\n 0.9047619047619048\n 0.9523809523809523\n 0.8571428571428571\n 0.9047619047619048"
          },
          "metadata": {}
        }
      ],
      "execution_count": 19,
      "metadata": {
        "jupyter": {
          "source_hidden": false,
          "outputs_hidden": false
        },
        "nteract": {
          "transient": {
            "deleting": false
          }
        }
      }
    },
    {
      "cell_type": "code",
      "source": [
        "using JLD2"
      ],
      "outputs": [],
      "execution_count": 20,
      "metadata": {
        "jupyter": {
          "source_hidden": false,
          "outputs_hidden": false
        },
        "nteract": {
          "transient": {
            "deleting": false
          }
        }
      }
    },
    {
      "cell_type": "code",
      "source": [
        "mkpath(\"outputs\")\r\n",
        "@save \"outputs/iris.jld2\" model"
      ],
      "outputs": [],
      "execution_count": 21,
      "metadata": {
        "jupyter": {
          "source_hidden": false,
          "outputs_hidden": false
        },
        "nteract": {
          "transient": {
            "deleting": false
          }
        }
      }
    },
    {
      "cell_type": "markdown",
      "source": [
        "## Trying to load the model back"
      ],
      "metadata": {
        "nteract": {
          "transient": {
            "deleting": false
          }
        }
      }
    },
    {
      "cell_type": "code",
      "source": [
        "using JLD2\r\n",
        "\r\n",
        "trained_model = load(\"outputs/iris.jld2\")"
      ],
      "outputs": [
        {
          "output_type": "execute_result",
          "execution_count": 24,
          "data": {
            "text/plain": "Dict{String, Any} with 1 entry:\n  \"model\" => Ensemble of Decision Trees…"
          },
          "metadata": {}
        }
      ],
      "execution_count": 24,
      "metadata": {
        "jupyter": {
          "source_hidden": false,
          "outputs_hidden": false
        },
        "nteract": {
          "transient": {
            "deleting": false
          }
        }
      }
    },
    {
      "cell_type": "code",
      "source": [
        "trained_model[\"model\"]"
      ],
      "outputs": [
        {
          "output_type": "execute_result",
          "execution_count": 25,
          "data": {
            "text/plain": "Ensemble of Decision Trees\nTrees:      7\nAvg Leaves: 2.0\nAvg Depth:  1.0"
          },
          "metadata": {}
        }
      ],
      "execution_count": 25,
      "metadata": {
        "jupyter": {
          "source_hidden": false,
          "outputs_hidden": false
        },
        "nteract": {
          "transient": {
            "deleting": false
          }
        }
      }
    }
  ],
  "metadata": {
    "kernelspec": {
      "name": "julia-1.7",
      "language": "julia",
      "display_name": "Julia 1.7.3"
    },
    "language_info": {
      "file_extension": ".jl",
      "name": "julia",
      "mimetype": "application/julia",
      "version": "1.7.3"
    },
    "kernel_info": {
      "name": "julia-1.7"
    },
    "nteract": {
      "version": "nteract-front-end@1.0.0"
    }
  },
  "nbformat": 4,
  "nbformat_minor": 0
}