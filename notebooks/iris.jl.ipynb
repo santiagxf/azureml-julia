{
  "cells": [
    {
      "cell_type": "code",
      "source": [
        "using Pkg\r\n",
        "\r\n",
        "Pkg.add([\"CSV\",\"DataFrames\",\"DecisionTree\", \"Plots\", \"JLD2\"])\r\n",
        "Pkg.add(\"CategoricalArrays\")"
      ],
      "outputs": [
        {
          "output_type": "stream",
          "name": "stderr",
          "text": "\u001b[32m\u001b[1m    Updating\u001b[22m\u001b[39m registry at `~/.julia/registries/General.toml`\n\u001b[32m\u001b[1m   Resolving\u001b[22m\u001b[39m package versions...\n\u001b[32m\u001b[1m   Installed\u001b[22m\u001b[39m JpegTurbo_jll ──────────────── v2.1.2+0\n\u001b[32m\u001b[1m   Installed\u001b[22m\u001b[39m libfdk_aac_jll ─────────────── v2.0.2+0\n\u001b[32m\u001b[1m   Installed\u001b[22m\u001b[39m GR_jll ─────────────────────── v0.64.4+0\n\u001b[32m\u001b[1m   Installed\u001b[22m\u001b[39m x265_jll ───────────────────── v3.5.0+0\n\u001b[32m\u001b[1m   Installed\u001b[22m\u001b[39m Libmount_jll ───────────────── v2.35.0+0\n\u001b[32m\u001b[1m   Installed\u001b[22m\u001b[39m ScikitLearnBase ────────────── v0.5.0\n\u001b[32m\u001b[1m   Installed\u001b[22m\u001b[39m LERC_jll ───────────────────── v3.0.0+1\n\u001b[32m\u001b[1m   Installed\u001b[22m\u001b[39m Opus_jll ───────────────────── v1.3.2+0\n\u001b[32m\u001b[1m   Installed\u001b[22m\u001b[39m Xorg_xkbcomp_jll ───────────── v1.4.2+4\n\u001b[32m\u001b[1m   Installed\u001b[22m\u001b[39m InlineStrings ──────────────── v1.1.2\n\u001b[32m\u001b[1m   Installed\u001b[22m\u001b[39m Measures ───────────────────── v0.3.1\n\u001b[32m\u001b[1m   Installed\u001b[22m\u001b[39m RelocatableFolders ─────────── v0.1.3\n\u001b[32m\u001b[1m   Installed\u001b[22m\u001b[39m EarCut_jll ─────────────────── v2.2.3+0\n\u001b[32m\u001b[1m   Installed\u001b[22m\u001b[39m Grisu ──────────────────────── v1.0.2\n\u001b[32m\u001b[1m   Installed\u001b[22m\u001b[39m Xorg_xcb_util_wm_jll ───────── v0.4.1+1\n\u001b[32m\u001b[1m   Installed\u001b[22m\u001b[39m StaticArrays ───────────────── v1.4.7\n\u001b[32m\u001b[1m   Installed\u001b[22m\u001b[39m Contour ────────────────────── v0.5.7\n\u001b[32m\u001b[1m   Installed\u001b[22m\u001b[39m Formatting ─────────────────── v0.4.2\n\u001b[32m\u001b[1m   Installed\u001b[22m\u001b[39m Xorg_xcb_util_image_jll ────── v0.4.0+1\n\u001b[32m\u001b[1m   Installed\u001b[22m\u001b[39m Xorg_libpthread_stubs_jll ──── v0.1.0+3\n\u001b[32m\u001b[1m   Installed\u001b[22m\u001b[39m PlotUtils ──────────────────── v1.2.0\n\u001b[32m\u001b[1m   Installed\u001b[22m\u001b[39m RecipesPipeline ────────────── v0.5.2\n\u001b[32m\u001b[1m   Installed\u001b[22m\u001b[39m InvertedIndices ────────────── v1.1.0\n\u001b[32m\u001b[1m   Installed\u001b[22m\u001b[39m HTTP ───────────────────────── v0.9.17\n\u001b[32m\u001b[1m   Installed\u001b[22m\u001b[39m FileIO ─────────────────────── v1.14.0\n\u001b[32m\u001b[1m   Installed\u001b[22m\u001b[39m Cairo_jll ──────────────────── v1.16.1+1\n\u001b[32m\u001b[1m   Installed\u001b[22m\u001b[39m Xorg_xcb_util_jll ──────────── v0.4.0+1\n\u001b[32m\u001b[1m   Installed\u001b[22m\u001b[39m Fontconfig_jll ─────────────── v2.13.93+0\n\u001b[32m\u001b[1m   Installed\u001b[22m\u001b[39m DataFrames ─────────────────── v1.3.4\n\u001b[32m\u001b[1m   Installed\u001b[22m\u001b[39m Libgpg_error_jll ───────────── v1.42.0+0\n\u001b[32m\u001b[1m   Installed\u001b[22m\u001b[39m Xorg_libxkbfile_jll ────────── v1.1.0+4\n\u001b[32m\u001b[1m   Installed\u001b[22m\u001b[39m Xorg_libXinerama_jll ───────── v1.1.4+4\n\u001b[32m\u001b[1m   Installed\u001b[22m\u001b[39m Xorg_libXau_jll ────────────── v1.0.9+4\n\u001b[32m\u001b[1m   Installed\u001b[22m\u001b[39m Missings ───────────────────── v1.0.2\n\u001b[32m\u001b[1m   Installed\u001b[22m\u001b[39m JLD2 ───────────────────────── v0.4.22\n\u001b[32m\u001b[1m   Installed\u001b[22m\u001b[39m FFMPEG ─────────────────────── v0.4.1\n\u001b[32m\u001b[1m   Installed\u001b[22m\u001b[39m Showoff ────────────────────── v1.0.3\n\u001b[32m\u001b[1m   Installed\u001b[22m\u001b[39m IrrationalConstants ────────── v0.1.1\n\u001b[32m\u001b[1m   Installed\u001b[22m\u001b[39m Qt5Base_jll ────────────────── v5.15.3+1\n\u001b[32m\u001b[1m   Installed\u001b[22m\u001b[39m Xorg_xcb_util_keysyms_jll ──── v0.4.0+1\n\u001b[32m\u001b[1m   Installed\u001b[22m\u001b[39m xkbcommon_jll ──────────────── v0.9.1+5\n\u001b[32m\u001b[1m   Installed\u001b[22m\u001b[39m SpecialFunctions ───────────── v2.1.6\n\u001b[32m\u001b[1m   Installed\u001b[22m\u001b[39m ColorSchemes ───────────────── v3.18.0\n\u001b[32m\u001b[1m   Installed\u001b[22m\u001b[39m GR ─────────────────────────── v0.64.4\n\u001b[32m\u001b[1m   Installed\u001b[22m\u001b[39m HarfBuzz_jll ───────────────── v2.8.1+1\n\u001b[32m\u001b[1m   Installed\u001b[22m\u001b[39m Bzip2_jll ──────────────────── v1.0.8+0\n\u001b[32m\u001b[1m   Installed\u001b[22m\u001b[39m SentinelArrays ─────────────── v1.3.13\n\u001b[32m\u001b[1m   Installed\u001b[22m\u001b[39m NaNMath ────────────────────── v1.0.0\n\u001b[32m\u001b[1m   Installed\u001b[22m\u001b[39m LZO_jll ────────────────────── v2.10.1+0\n\u001b[32m\u001b[1m   Installed\u001b[22m\u001b[39m PlotThemes ─────────────────── v3.0.0\n\u001b[32m\u001b[1m   Installed\u001b[22m\u001b[39m FriBidi_jll ────────────────── v1.0.10+0\n\u001b[32m\u001b[1m   Installed\u001b[22m\u001b[39m GLFW_jll ───────────────────── v3.3.6+0\n\u001b[32m\u001b[1m   Installed\u001b[22m\u001b[39m UnicodeFun ─────────────────── v0.4.1\n\u001b[32m\u001b[1m   Installed\u001b[22m\u001b[39m TranscodingStreams ─────────── v0.9.6\n\u001b[32m\u001b[1m   Installed\u001b[22m\u001b[39m WeakRefStrings ─────────────── v1.4.2\n\u001b[32m\u001b[1m   Installed\u001b[22m\u001b[39m x264_jll ───────────────────── v2021.5.5+0\n\u001b[32m\u001b[1m   Installed\u001b[22m\u001b[39m FreeType2_jll ──────────────── v2.10.4+0\n\u001b[32m\u001b[1m   Installed\u001b[22m\u001b[39m StatsAPI ───────────────────── v1.4.0\n\u001b[32m\u001b[1m   Installed\u001b[22m\u001b[39m CodecZlib ──────────────────── v0.7.0\n\u001b[32m\u001b[1m   Installed\u001b[22m\u001b[39m Xorg_libxcb_jll ────────────── v1.13.0+3\n\u001b[32m\u001b[1m   Installed\u001b[22m\u001b[39m Colors ─────────────────────── v0.12.8\n\u001b[32m\u001b[1m   Installed\u001b[22m\u001b[39m DataStructures ─────────────── v0.18.13\n\u001b[32m\u001b[1m   Installed\u001b[22m\u001b[39m Compat ─────────────────────── v3.45.0\n\u001b[32m\u001b[1m   Installed\u001b[22m\u001b[39m StatsBase ──────────────────── v0.33.16\n\u001b[32m\u001b[1m   Installed\u001b[22m\u001b[39m libpng_jll ─────────────────── v1.6.38+0\n\u001b[32m\u001b[1m   Installed\u001b[22m\u001b[39m Scratch ────────────────────── v1.1.0\n\u001b[32m\u001b[1m   Installed\u001b[22m\u001b[39m Xorg_libXext_jll ───────────── v1.3.4+4\n\u001b[32m\u001b[1m   Installed\u001b[22m\u001b[39m TensorCore ─────────────────── v0.1.1\n\u001b[32m\u001b[1m   Installed\u001b[22m\u001b[39m ColorTypes ─────────────────── v0.11.3\n\u001b[32m\u001b[1m   Installed\u001b[22m\u001b[39m Plots ──────────────────────── v1.29.1\n\u001b[32m\u001b[1m   Installed\u001b[22m\u001b[39m Zstd_jll ───────────────────── v1.5.2+0\n\u001b[32m\u001b[1m   Installed\u001b[22m\u001b[39m TableTraits ────────────────── v1.0.1\n\u001b[32m\u001b[1m   Installed\u001b[22m\u001b[39m Expat_jll ──────────────────── v2.4.8+0\n\u001b[32m\u001b[1m   Installed\u001b[22m\u001b[39m Libtiff_jll ────────────────── v4.4.0+0\n\u001b[32m\u001b[1m   Installed\u001b[22m\u001b[39m PooledArrays ───────────────── v1.4.2\n\u001b[32m\u001b[1m   Installed\u001b[22m\u001b[39m DecisionTree ───────────────── v0.10.12\n\u001b[32m\u001b[1m   Installed\u001b[22m\u001b[39m PCRE_jll ───────────────────── v8.44.0+0\n\u001b[32m\u001b[1m   Installed\u001b[22m\u001b[39m DataValueInterfaces ────────── v1.0.0\n\u001b[32m\u001b[1m   Installed\u001b[22m\u001b[39m Libffi_jll ─────────────────── v3.2.2+1\n\u001b[32m\u001b[1m   Installed\u001b[22m\u001b[39m ColorVectorSpace ───────────── v0.9.9\n\u001b[32m\u001b[1m   Installed\u001b[22m\u001b[39m AbstractTrees ──────────────── v0.3.4\n\u001b[32m\u001b[1m   Installed\u001b[22m\u001b[39m Xorg_libXrender_jll ────────── v0.9.10+4\n\u001b[32m\u001b[1m   Installed\u001b[22m\u001b[39m Ogg_jll ────────────────────── v1.3.5+1\n\u001b[32m\u001b[1m   Installed\u001b[22m\u001b[39m OrderedCollections ─────────── v1.4.1\n\u001b[32m\u001b[1m   Installed\u001b[22m\u001b[39m XSLT_jll ───────────────────── v1.1.34+0\n\u001b[32m\u001b[1m   Installed\u001b[22m\u001b[39m Xorg_libXi_jll ─────────────── v1.7.10+4\n\u001b[32m\u001b[1m   Installed\u001b[22m\u001b[39m ChainRulesCore ─────────────── v1.15.0\n\u001b[32m\u001b[1m   Installed\u001b[22m\u001b[39m Reexport ───────────────────── v1.2.2\n\u001b[32m\u001b[1m   Installed\u001b[22m\u001b[39m Xorg_libXcursor_jll ────────── v1.2.0+4\n\u001b[32m\u001b[1m   Installed\u001b[22m\u001b[39m OpenSpecFun_jll ────────────── v0.5.5+0\n\u001b[32m\u001b[1m   Installed\u001b[22m\u001b[39m LogExpFunctions ────────────── v0.3.15\n\u001b[32m\u001b[1m   Installed\u001b[22m\u001b[39m InverseFunctions ───────────── v0.1.7\n\u001b[32m\u001b[1m   Installed\u001b[22m\u001b[39m MacroTools ─────────────────── v0.5.9\n\u001b[32m\u001b[1m   Installed\u001b[22m\u001b[39m PrettyTables ───────────────── v1.3.1\n\u001b[32m\u001b[1m   Installed\u001b[22m\u001b[39m Libuuid_jll ────────────────── v2.36.0+0\n\u001b[32m\u001b[1m   Installed\u001b[22m\u001b[39m Xorg_xcb_util_renderutil_jll ─ v0.3.9+1\n\u001b[32m\u001b[1m   Installed\u001b[22m\u001b[39m Wayland_protocols_jll ──────── v1.25.0+0\n\u001b[32m\u001b[1m   Installed\u001b[22m\u001b[39m Crayons ────────────────────── v4.1.1\n\u001b[32m\u001b[1m   Installed\u001b[22m\u001b[39m Graphite2_jll ──────────────── v1.3.14+0\n\u001b[32m\u001b[1m   Installed\u001b[22m\u001b[39m Adapt ──────────────────────── v3.3.3\n\u001b[32m\u001b[1m   Installed\u001b[22m\u001b[39m DocStringExtensions ────────── v0.8.6\n\u001b[32m\u001b[1m   Installed\u001b[22m\u001b[39m XML2_jll ───────────────────── v2.9.14+0\n\u001b[32m\u001b[1m   Installed\u001b[22m\u001b[39m libass_jll ─────────────────── v0.15.1+0\n\u001b[32m\u001b[1m   Installed\u001b[22m\u001b[39m Pixman_jll ─────────────────── v0.40.1+0\n\u001b[32m\u001b[1m   Installed\u001b[22m\u001b[39m Gettext_jll ────────────────── v0.21.0+0\n\u001b[32m\u001b[1m   Installed\u001b[22m\u001b[39m Wayland_jll ────────────────── v1.19.0+0\n\u001b[32m\u001b[1m   Installed\u001b[22m\u001b[39m IterTools ──────────────────── v1.4.0\n\u001b[32m\u001b[1m   Installed\u001b[22m\u001b[39m Latexify ───────────────────── v0.15.15\n\u001b[32m\u001b[1m   Installed\u001b[22m\u001b[39m Xorg_xtrans_jll ────────────── v1.4.0+3\n\u001b[32m\u001b[1m   Installed\u001b[22m\u001b[39m OpenSSL_jll ────────────────── v1.1.14+0\n\u001b[32m\u001b[1m   Installed\u001b[22m\u001b[39m FFMPEG_jll ─────────────────── v4.4.0+0\n\u001b[32m\u001b[1m   Installed\u001b[22m\u001b[39m Libgcrypt_jll ──────────────── v1.8.7+0\n\u001b[32m\u001b[1m   Installed\u001b[22m\u001b[39m Xorg_xkeyboard_config_jll ──── v2.27.0+4\n\u001b[32m\u001b[1m   Installed\u001b[22m\u001b[39m Tables ─────────────────────── v1.7.0\n\u001b[32m\u001b[1m   Installed\u001b[22m\u001b[39m GeometryBasics ─────────────── v0.4.2\n\u001b[32m\u001b[1m   Installed\u001b[22m\u001b[39m CSV ────────────────────────── v0.10.4\n\u001b[32m\u001b[1m   Installed\u001b[22m\u001b[39m Xorg_libXrandr_jll ─────────── v1.5.2+4\n\u001b[32m\u001b[1m   Installed\u001b[22m\u001b[39m Xorg_libXfixes_jll ─────────── v5.0.3+4\n\u001b[32m\u001b[1m   Installed\u001b[22m\u001b[39m DataAPI ────────────────────── v1.10.0\n\u001b[32m\u001b[1m   Installed\u001b[22m\u001b[39m FixedPointNumbers ──────────── v0.8.4\n\u001b[32m\u001b[1m   Installed\u001b[22m\u001b[39m RecipesBase ────────────────── v1.2.1\n\u001b[32m\u001b[1m   Installed\u001b[22m\u001b[39m LAME_jll ───────────────────── v3.100.1+0\n\u001b[32m\u001b[1m   Installed\u001b[22m\u001b[39m Libiconv_jll ───────────────── v1.16.1+1\n\u001b[32m\u001b[1m   Installed\u001b[22m\u001b[39m IteratorInterfaceExtensions ── v1.0.0\n\u001b[32m\u001b[1m   Installed\u001b[22m\u001b[39m IniFile ────────────────────── v0.5.1\n\u001b[32m\u001b[1m   Installed\u001b[22m\u001b[39m LaTeXStrings ───────────────── v1.3.0\n\u001b[32m\u001b[1m   Installed\u001b[22m\u001b[39m libvorbis_jll ──────────────── v1.3.7+1\n\u001b[32m\u001b[1m   Installed\u001b[22m\u001b[39m Libglvnd_jll ───────────────── v1.3.0+3\n\u001b[32m\u001b[1m   Installed\u001b[22m\u001b[39m URIs ───────────────────────── v1.3.0\n\u001b[32m\u001b[1m   Installed\u001b[22m\u001b[39m StructArrays ───────────────── v0.6.8\n\u001b[32m\u001b[1m   Installed\u001b[22m\u001b[39m FilePathsBase ──────────────── v0.9.18\n\u001b[32m\u001b[1m   Installed\u001b[22m\u001b[39m Glib_jll ───────────────────── v2.68.3+2\n\u001b[32m\u001b[1m   Installed\u001b[22m\u001b[39m Xorg_libX11_jll ────────────── v1.6.9+4\n\u001b[32m\u001b[1m   Installed\u001b[22m\u001b[39m Requires ───────────────────── v1.3.0\n\u001b[32m\u001b[1m   Installed\u001b[22m\u001b[39m Xorg_libXdmcp_jll ──────────── v1.1.3+4\n\u001b[32m\u001b[1m   Installed\u001b[22m\u001b[39m SortingAlgorithms ──────────── v1.0.1\n\u001b[32m\u001b[1m   Installed\u001b[22m\u001b[39m Unzip ──────────────────────── v0.1.2\n\u001b[32m\u001b[1m   Installed\u001b[22m\u001b[39m ChangesOfVariables ─────────── v0.1.3\n\u001b[32m\u001b[1m    Updating\u001b[22m\u001b[39m `~/.julia/environments/v1.7/Project.toml`\n \u001b[90m [336ed68f] \u001b[39m\u001b[92m+ CSV v0.10.4\u001b[39m\n \u001b[90m [a93c6f00] \u001b[39m\u001b[92m+ DataFrames v1.3.4\u001b[39m\n \u001b[90m [7806a523] \u001b[39m\u001b[92m+ DecisionTree v0.10.12\u001b[39m\n \u001b[90m [033835bb] \u001b[39m\u001b[92m+ JLD2 v0.4.22\u001b[39m\n \u001b[90m [91a5bcdd] \u001b[39m\u001b[92m+ Plots v1.29.1\u001b[39m\n\u001b[32m\u001b[1m    Updating\u001b[22m\u001b[39m `~/.julia/environments/v1.7/Manifest.toml`\n \u001b[90m [1520ce14] \u001b[39m\u001b[92m+ AbstractTrees v0.3.4\u001b[39m\n \u001b[90m [79e6a3ab] \u001b[39m\u001b[92m+ Adapt v3.3.3\u001b[39m\n \u001b[90m [336ed68f] \u001b[39m\u001b[92m+ CSV v0.10.4\u001b[39m\n \u001b[90m [d360d2e6] \u001b[39m\u001b[92m+ ChainRulesCore v1.15.0\u001b[39m\n \u001b[90m [9e997f8a] \u001b[39m\u001b[92m+ ChangesOfVariables v0.1.3\u001b[39m\n \u001b[90m [944b1d66] \u001b[39m\u001b[92m+ CodecZlib v0.7.0\u001b[39m\n \u001b[90m [35d6a980] \u001b[39m\u001b[92m+ ColorSchemes v3.18.0\u001b[39m\n \u001b[90m [3da002f7] \u001b[39m\u001b[92m+ ColorTypes v0.11.3\u001b[39m\n \u001b[90m [c3611d14] \u001b[39m\u001b[92m+ ColorVectorSpace v0.9.9\u001b[39m\n \u001b[90m [5ae59095] \u001b[39m\u001b[92m+ Colors v0.12.8\u001b[39m\n \u001b[90m [34da2185] \u001b[39m\u001b[92m+ Compat v3.45.0\u001b[39m\n \u001b[90m [d38c429a] \u001b[39m\u001b[92m+ Contour v0.5.7\u001b[39m\n \u001b[90m [a8cc5b0e] \u001b[39m\u001b[92m+ Crayons v4.1.1\u001b[39m\n \u001b[90m [9a962f9c] \u001b[39m\u001b[92m+ DataAPI v1.10.0\u001b[39m\n \u001b[90m [a93c6f00] \u001b[39m\u001b[92m+ DataFrames v1.3.4\u001b[39m\n \u001b[90m [864edb3b] \u001b[39m\u001b[92m+ DataStructures v0.18.13\u001b[39m\n \u001b[90m [e2d170a0] \u001b[39m\u001b[92m+ DataValueInterfaces v1.0.0\u001b[39m\n \u001b[90m [7806a523] \u001b[39m\u001b[92m+ DecisionTree v0.10.12\u001b[39m\n \u001b[90m [ffbed154] \u001b[39m\u001b[92m+ DocStringExtensions v0.8.6\u001b[39m\n \u001b[90m [c87230d0] \u001b[39m\u001b[92m+ FFMPEG v0.4.1\u001b[39m\n \u001b[90m [5789e2e9] \u001b[39m\u001b[92m+ FileIO v1.14.0\u001b[39m\n \u001b[90m [48062228] \u001b[39m\u001b[92m+ FilePathsBase v0.9.18\u001b[39m\n \u001b[90m [53c48c17] \u001b[39m\u001b[92m+ FixedPointNumbers v0.8.4\u001b[39m\n \u001b[90m [59287772] \u001b[39m\u001b[92m+ Formatting v0.4.2\u001b[39m\n \u001b[90m [28b8d3ca] \u001b[39m\u001b[92m+ GR v0.64.4\u001b[39m\n \u001b[90m [5c1252a2] \u001b[39m\u001b[92m+ GeometryBasics v0.4.2\u001b[39m\n \u001b[90m [42e2da0e] \u001b[39m\u001b[92m+ Grisu v1.0.2\u001b[39m\n \u001b[90m [cd3eb016] \u001b[39m\u001b[92m+ HTTP v0.9.17\u001b[39m\n \u001b[90m [83e8ac13] \u001b[39m\u001b[92m+ IniFile v0.5.1\u001b[39m\n \u001b[90m [842dd82b] \u001b[39m\u001b[92m+ InlineStrings v1.1.2\u001b[39m\n \u001b[90m [3587e190] \u001b[39m\u001b[92m+ InverseFunctions v0.1.7\u001b[39m\n \u001b[90m [41ab1584] \u001b[39m\u001b[92m+ InvertedIndices v1.1.0\u001b[39m\n \u001b[90m [92d709cd] \u001b[39m\u001b[92m+ IrrationalConstants v0.1.1\u001b[39m\n \u001b[90m [c8e1da08] \u001b[39m\u001b[92m+ IterTools v1.4.0\u001b[39m\n \u001b[90m [82899510] \u001b[39m\u001b[92m+ IteratorInterfaceExtensions v1.0.0\u001b[39m\n \u001b[90m [033835bb] \u001b[39m\u001b[92m+ JLD2 v0.4.22\u001b[39m\n \u001b[90m [b964fa9f] \u001b[39m\u001b[92m+ LaTeXStrings v1.3.0\u001b[39m\n \u001b[90m [23fbe1c1] \u001b[39m\u001b[92m+ Latexify v0.15.15\u001b[39m\n \u001b[90m [2ab3a3ac] \u001b[39m\u001b[92m+ LogExpFunctions v0.3.15\u001b[39m\n \u001b[90m [1914dd2f] \u001b[39m\u001b[92m+ MacroTools v0.5.9\u001b[39m\n \u001b[90m [442fdcdd] \u001b[39m\u001b[92m+ Measures v0.3.1\u001b[39m\n \u001b[90m [e1d29d7a] \u001b[39m\u001b[92m+ Missings v1.0.2\u001b[39m\n \u001b[90m [77ba4419] \u001b[39m\u001b[92m+ NaNMath v1.0.0\u001b[39m\n \u001b[90m [bac558e1] \u001b[39m\u001b[92m+ OrderedCollections v1.4.1\u001b[39m\n \u001b[90m [ccf2f8ad] \u001b[39m\u001b[92m+ PlotThemes v3.0.0\u001b[39m\n \u001b[90m [995b91a9] \u001b[39m\u001b[92m+ PlotUtils v1.2.0\u001b[39m\n \u001b[90m [91a5bcdd] \u001b[39m\u001b[92m+ Plots v1.29.1\u001b[39m\n \u001b[90m [2dfb63ee] \u001b[39m\u001b[92m+ PooledArrays v1.4.2\u001b[39m\n \u001b[90m [08abe8d2] \u001b[39m\u001b[92m+ PrettyTables v1.3.1\u001b[39m\n \u001b[90m [3cdcf5f2] \u001b[39m\u001b[92m+ RecipesBase v1.2.1\u001b[39m\n \u001b[90m [01d81517] \u001b[39m\u001b[92m+ RecipesPipeline v0.5.2\u001b[39m\n \u001b[90m [189a3867] \u001b[39m\u001b[92m+ Reexport v1.2.2\u001b[39m\n \u001b[90m [05181044] \u001b[39m\u001b[92m+ RelocatableFolders v0.1.3\u001b[39m\n \u001b[90m [ae029012] \u001b[39m\u001b[92m+ Requires v1.3.0\u001b[39m\n \u001b[90m [6e75b9c4] \u001b[39m\u001b[92m+ ScikitLearnBase v0.5.0\u001b[39m\n \u001b[90m [6c6a2e73] \u001b[39m\u001b[92m+ Scratch v1.1.0\u001b[39m\n \u001b[90m [91c51154] \u001b[39m\u001b[92m+ SentinelArrays v1.3.13\u001b[39m\n \u001b[90m [992d4aef] \u001b[39m\u001b[92m+ Showoff v1.0.3\u001b[39m\n \u001b[90m [a2af1166] \u001b[39m\u001b[92m+ SortingAlgorithms v1.0.1\u001b[39m\n \u001b[90m [276daf66] \u001b[39m\u001b[92m+ SpecialFunctions v2.1.6\u001b[39m\n \u001b[90m [90137ffa] \u001b[39m\u001b[92m+ StaticArrays v1.4.7\u001b[39m\n \u001b[90m [82ae8749] \u001b[39m\u001b[92m+ StatsAPI v1.4.0\u001b[39m\n \u001b[90m [2913bbd2] \u001b[39m\u001b[92m+ StatsBase v0.33.16\u001b[39m\n \u001b[90m [09ab397b] \u001b[39m\u001b[92m+ StructArrays v0.6.8\u001b[39m\n \u001b[90m [3783bdb8] \u001b[39m\u001b[92m+ TableTraits v1.0.1\u001b[39m\n \u001b[90m [bd369af6] \u001b[39m\u001b[92m+ Tables v1.7.0\u001b[39m\n \u001b[90m [62fd8b95] \u001b[39m\u001b[92m+ TensorCore v0.1.1\u001b[39m\n \u001b[90m [3bb67fe8] \u001b[39m\u001b[92m+ TranscodingStreams v0.9.6\u001b[39m\n \u001b[90m [5c2747f8] \u001b[39m\u001b[92m+ URIs v1.3.0\u001b[39m\n \u001b[90m [1cfade01] \u001b[39m\u001b[92m+ UnicodeFun v0.4.1\u001b[39m\n \u001b[90m [41fe7b60] \u001b[39m\u001b[92m+ Unzip v0.1.2\u001b[39m\n \u001b[90m [ea10d353] \u001b[39m\u001b[92m+ WeakRefStrings v1.4.2\u001b[39m\n \u001b[90m [6e34b625] \u001b[39m\u001b[92m+ Bzip2_jll v1.0.8+0\u001b[39m\n \u001b[90m [83423d85] \u001b[39m\u001b[92m+ Cairo_jll v1.16.1+1\u001b[39m\n \u001b[90m [5ae413db] \u001b[39m\u001b[92m+ EarCut_jll v2.2.3+0\u001b[39m\n \u001b[90m [2e619515] \u001b[39m\u001b[92m+ Expat_jll v2.4.8+0\u001b[39m\n \u001b[90m [b22a6f82] \u001b[39m\u001b[92m+ FFMPEG_jll v4.4.0+0\u001b[39m\n \u001b[90m [a3f928ae] \u001b[39m\u001b[92m+ Fontconfig_jll v2.13.93+0\u001b[39m\n \u001b[90m [d7e528f0] \u001b[39m\u001b[92m+ FreeType2_jll v2.10.4+0\u001b[39m\n \u001b[90m [559328eb] \u001b[39m\u001b[92m+ FriBidi_jll v1.0.10+0\u001b[39m\n \u001b[90m [0656b61e] \u001b[39m\u001b[92m+ GLFW_jll v3.3.6+0\u001b[39m\n \u001b[90m [d2c73de3] \u001b[39m\u001b[92m+ GR_jll v0.64.4+0\u001b[39m\n \u001b[90m [78b55507] \u001b[39m\u001b[92m+ Gettext_jll v0.21.0+0\u001b[39m\n \u001b[90m [7746bdde] \u001b[39m\u001b[92m+ Glib_jll v2.68.3+2\u001b[39m\n \u001b[90m [3b182d85] \u001b[39m\u001b[92m+ Graphite2_jll v1.3.14+0\u001b[39m\n \u001b[90m [2e76f6c2] \u001b[39m\u001b[92m+ HarfBuzz_jll v2.8.1+1\u001b[39m\n \u001b[90m [aacddb02] \u001b[39m\u001b[92m+ JpegTurbo_jll v2.1.2+0\u001b[39m\n \u001b[90m [c1c5ebd0] \u001b[39m\u001b[92m+ LAME_jll v3.100.1+0\u001b[39m\n \u001b[90m [88015f11] \u001b[39m\u001b[92m+ LERC_jll v3.0.0+1\u001b[39m\n \u001b[90m [dd4b983a] \u001b[39m\u001b[92m+ LZO_jll v2.10.1+0\u001b[39m\n \u001b[90m [e9f186c6] \u001b[39m\u001b[92m+ Libffi_jll v3.2.2+1\u001b[39m\n \u001b[90m [d4300ac3] \u001b[39m\u001b[92m+ Libgcrypt_jll v1.8.7+0\u001b[39m\n \u001b[90m [7e76a0d4] \u001b[39m\u001b[92m+ Libglvnd_jll v1.3.0+3\u001b[39m\n \u001b[90m [7add5ba3] \u001b[39m\u001b[92m+ Libgpg_error_jll v1.42.0+0\u001b[39m\n \u001b[90m [94ce4f54] \u001b[39m\u001b[92m+ Libiconv_jll v1.16.1+1\u001b[39m\n \u001b[90m [4b2f31a3] \u001b[39m\u001b[92m+ Libmount_jll v2.35.0+0\u001b[39m\n \u001b[90m [89763e89] \u001b[39m\u001b[92m+ Libtiff_jll v4.4.0+0\u001b[39m\n \u001b[90m [38a345b3] \u001b[39m\u001b[92m+ Libuuid_jll v2.36.0+0\u001b[39m\n \u001b[90m [e7412a2a] \u001b[39m\u001b[92m+ Ogg_jll v1.3.5+1\u001b[39m\n \u001b[90m [458c3c95] \u001b[39m\u001b[92m+ OpenSSL_jll v1.1.14+0\u001b[39m\n \u001b[90m [efe28fd5] \u001b[39m\u001b[92m+ OpenSpecFun_jll v0.5.5+0\u001b[39m\n \u001b[90m [91d4177d] \u001b[39m\u001b[92m+ Opus_jll v1.3.2+0\u001b[39m\n \u001b[90m [2f80f16e] \u001b[39m\u001b[92m+ PCRE_jll v8.44.0+0\u001b[39m\n \u001b[90m [30392449] \u001b[39m\u001b[92m+ Pixman_jll v0.40.1+0\u001b[39m\n \u001b[90m [ea2cea3b] \u001b[39m\u001b[92m+ Qt5Base_jll v5.15.3+1\u001b[39m\n \u001b[90m [a2964d1f] \u001b[39m\u001b[92m+ Wayland_jll v1.19.0+0\u001b[39m\n \u001b[90m [2381bf8a] \u001b[39m\u001b[92m+ Wayland_protocols_jll v1.25.0+0\u001b[39m\n \u001b[90m [02c8fc9c] \u001b[39m\u001b[92m+ XML2_jll v2.9.14+0\u001b[39m\n \u001b[90m [aed1982a] \u001b[39m\u001b[92m+ XSLT_jll v1.1.34+0\u001b[39m\n \u001b[90m [4f6342f7] \u001b[39m\u001b[92m+ Xorg_libX11_jll v1.6.9+4\u001b[39m\n \u001b[90m [0c0b7dd1] \u001b[39m\u001b[92m+ Xorg_libXau_jll v1.0.9+4\u001b[39m\n \u001b[90m [935fb764] \u001b[39m\u001b[92m+ Xorg_libXcursor_jll v1.2.0+4\u001b[39m\n \u001b[90m [a3789734] \u001b[39m\u001b[92m+ Xorg_libXdmcp_jll v1.1.3+4\u001b[39m\n \u001b[90m [1082639a] \u001b[39m\u001b[92m+ Xorg_libXext_jll v1.3.4+4\u001b[39m\n \u001b[90m [d091e8ba] \u001b[39m\u001b[92m+ Xorg_libXfixes_jll v5.0.3+4\u001b[39m\n \u001b[90m [a51aa0fd] \u001b[39m\u001b[92m+ Xorg_libXi_jll v1.7.10+4\u001b[39m\n \u001b[90m [d1454406] \u001b[39m\u001b[92m+ Xorg_libXinerama_jll v1.1.4+4\u001b[39m\n \u001b[90m [ec84b674] \u001b[39m\u001b[92m+ Xorg_libXrandr_jll v1.5.2+4\u001b[39m\n \u001b[90m [ea2f1a96] \u001b[39m\u001b[92m+ Xorg_libXrender_jll v0.9.10+4\u001b[39m\n \u001b[90m [14d82f49] \u001b[39m\u001b[92m+ Xorg_libpthread_stubs_jll v0.1.0+3\u001b[39m\n \u001b[90m [c7cfdc94] \u001b[39m\u001b[92m+ Xorg_libxcb_jll v1.13.0+3\u001b[39m\n \u001b[90m [cc61e674] \u001b[39m\u001b[92m+ Xorg_libxkbfile_jll v1.1.0+4\u001b[39m\n \u001b[90m [12413925] \u001b[39m\u001b[92m+ Xorg_xcb_util_image_jll v0.4.0+1\u001b[39m\n \u001b[90m [2def613f] \u001b[39m\u001b[92m+ Xorg_xcb_util_jll v0.4.0+1\u001b[39m\n \u001b[90m [975044d2] \u001b[39m\u001b[92m+ Xorg_xcb_util_keysyms_jll v0.4.0+1\u001b[39m\n \u001b[90m [0d47668e] \u001b[39m\u001b[92m+ Xorg_xcb_util_renderutil_jll v0.3.9+1\u001b[39m\n \u001b[90m [c22f9ab0] \u001b[39m\u001b[92m+ Xorg_xcb_util_wm_jll v0.4.1+1\u001b[39m\n \u001b[90m [35661453] \u001b[39m\u001b[92m+ Xorg_xkbcomp_jll v1.4.2+4\u001b[39m\n \u001b[90m [33bec58e] \u001b[39m\u001b[92m+ Xorg_xkeyboard_config_jll v2.27.0+4\u001b[39m\n \u001b[90m [c5fb5394] \u001b[39m\u001b[92m+ Xorg_xtrans_jll v1.4.0+3\u001b[39m\n \u001b[90m [3161d3a3] \u001b[39m\u001b[92m+ Zstd_jll v1.5.2+0\u001b[39m\n \u001b[90m [0ac62f75] \u001b[39m\u001b[92m+ libass_jll v0.15.1+0\u001b[39m\n \u001b[90m [f638f0a6] \u001b[39m\u001b[92m+ libfdk_aac_jll v2.0.2+0\u001b[39m\n \u001b[90m [b53b4c65] \u001b[39m\u001b[92m+ libpng_jll v1.6.38+0\u001b[39m\n \u001b[90m [f27f6e37] \u001b[39m\u001b[92m+ libvorbis_jll v1.3.7+1\u001b[39m\n \u001b[90m [1270edf5] \u001b[39m\u001b[92m+ x264_jll v2021.5.5+0\u001b[39m\n \u001b[90m [dfaa095f] \u001b[39m\u001b[92m+ x265_jll v3.5.0+0\u001b[39m\n \u001b[90m [d8fb68d0] \u001b[39m\u001b[92m+ xkbcommon_jll v0.9.1+5\u001b[39m\n \u001b[90m [8bb1440f] \u001b[39m\u001b[92m+ DelimitedFiles\u001b[39m\n \u001b[90m [8ba89e20] \u001b[39m\u001b[92m+ Distributed\u001b[39m\n \u001b[90m [9fa8497b] \u001b[39m\u001b[92m+ Future\u001b[39m\n \u001b[90m [37e2e46d] \u001b[39m\u001b[92m+ LinearAlgebra\u001b[39m\n \u001b[90m [1a1011a3] \u001b[39m\u001b[92m+ SharedArrays\u001b[39m\n \u001b[90m [2f01184e] \u001b[39m\u001b[92m+ SparseArrays\u001b[39m\n \u001b[90m [10745b16] \u001b[39m\u001b[92m+ Statistics\u001b[39m\n \u001b[90m [e66e0078] \u001b[39m\u001b[92m+ CompilerSupportLibraries_jll\u001b[39m\n \u001b[90m [4536629a] \u001b[39m\u001b[92m+ OpenBLAS_jll\u001b[39m\n \u001b[90m [05823500] \u001b[39m\u001b[92m+ OpenLibm_jll\u001b[39m\n \u001b[90m [8e850b90] \u001b[39m\u001b[92m+ libblastrampoline_jll\u001b[39m\n\u001b[32m\u001b[1m    Building\u001b[22m\u001b[39m GR → `~/.julia/scratchspaces/44cfe95a-1eb2-52ea-b672-e2afdf69b78f/c98aea696662d09e215ef7cda5296024a9646c75/build.log`\n\u001b[32m\u001b[1mPrecompiling\u001b[22m\u001b[39m project...\n\u001b[32m  ✓ \u001b[39m\u001b[90mLaTeXStrings\u001b[39m\n\u001b[32m  ✓ \u001b[39m\u001b[90mIteratorInterfaceExtensions\u001b[39m\n\u001b[32m  ✓ \u001b[39m\u001b[90mRecipesBase\u001b[39m\n\u001b[32m  ✓ \u001b[39m\u001b[90mTensorCore\u001b[39m\n\u001b[32m  ✓ \u001b[39m\u001b[90mStatsAPI\u001b[39m\n\u001b[32m  ✓ \u001b[39m\u001b[90mOpenLibm_jll\u001b[39m\n\u001b[32m  ✓ \u001b[39m\u001b[90mMeasures\u001b[39m\n\u001b[32m  ✓ \u001b[39m\u001b[90mSentinelArrays\u001b[39m\n\u001b[32m  ✓ \u001b[39m\u001b[90mInverseFunctions\u001b[39m\n\u001b[32m  ✓ \u001b[39m\u001b[90mCompilerSupportLibraries_jll\u001b[39m\n\u001b[32m  ✓ \u001b[39m\u001b[90mIterTools\u001b[39m\n\u001b[32m  ✓ \u001b[39m\u001b[90mFixedPointNumbers\u001b[39m\n\u001b[32m  ✓ \u001b[39m\u001b[90mGrisu\u001b[39m\n\u001b[32m  ✓ \u001b[39m\u001b[90mOrderedCollections\u001b[39m\n\u001b[32m  ✓ \u001b[39m\u001b[90mCompat\u001b[39m\n\u001b[32m  ✓ \u001b[39m\u001b[90mDataValueInterfaces\u001b[39m\n\u001b[32m  ✓ \u001b[39m\u001b[90mRequires\u001b[39m\n\u001b[32m  ✓ \u001b[39m\u001b[90mReexport\u001b[39m\n\u001b[32m  ✓ \u001b[39m\u001b[90mUnzip\u001b[39m\n\u001b[32m  ✓ \u001b[39m\u001b[90mMacroTools\u001b[39m\n\u001b[32m  ✓ \u001b[39m\u001b[90mIniFile\u001b[39m\n\u001b[32m  ✓ \u001b[39m\u001b[90mDocStringExtensions\u001b[39m\n\u001b[32m  ✓ \u001b[39m\u001b[90mAbstractTrees\u001b[39m\n\u001b[32m  ✓ \u001b[39m\u001b[90mURIs\u001b[39m\n\u001b[32m  ✓ \u001b[39m\u001b[90mInlineStrings\u001b[39m\n\u001b[32m  ✓ \u001b[39m\u001b[90mIrrationalConstants\u001b[39m\n\u001b[32m  ✓ \u001b[39m\u001b[90mFormatting\u001b[39m\n\u001b[32m  ✓ \u001b[39m\u001b[90mNaNMath\u001b[39m\n\u001b[32m  ✓ \u001b[39m\u001b[90mScikitLearnBase\u001b[39m\n\u001b[32m  ✓ \u001b[39m\u001b[90mUnicodeFun\u001b[39m\n\u001b[32m  ✓ \u001b[39m\u001b[90mTranscodingStreams\u001b[39m\n\u001b[32m  ✓ \u001b[39m\u001b[90mDataAPI\u001b[39m\n\u001b[32m  ✓ \u001b[39m\u001b[90mInvertedIndices\u001b[39m\n\u001b[32m  ✓ \u001b[39m\u001b[90mAdapt\u001b[39m\n\u001b[32m  ✓ \u001b[39m\u001b[90mScratch\u001b[39m\n\u001b[32m  ✓ \u001b[39m\u001b[90mCrayons\u001b[39m\n\u001b[32m  ✓ \u001b[39m\u001b[90mOpenSSL_jll\u001b[39m\n\u001b[32m  ✓ \u001b[39m\u001b[90mGraphite2_jll\u001b[39m\n\u001b[32m  ✓ \u001b[39m\u001b[90mLibmount_jll\u001b[39m\n\u001b[32m  ✓ \u001b[39m\u001b[90mBzip2_jll\u001b[39m\n\u001b[32m  ✓ \u001b[39m\u001b[90mXorg_libXau_jll\u001b[39m\n\u001b[32m  ✓ \u001b[39m\u001b[90mlibfdk_aac_jll\u001b[39m\n\u001b[32m  ✓ \u001b[39m\u001b[90mStaticArrays\u001b[39m\n\u001b[32m  ✓ \u001b[39m\u001b[90mlibpng_jll\u001b[39m\n\u001b[32m  ✓ \u001b[39m\u001b[90mPixman_jll\u001b[39m\n\u001b[32m  ✓ \u001b[39m\u001b[90mLERC_jll\u001b[39m\n\u001b[32m  ✓ \u001b[39m\u001b[90mLAME_jll\u001b[39m\n\u001b[32m  ✓ \u001b[39m\u001b[90mJpegTurbo_jll\u001b[39m\n\u001b[32m  ✓ \u001b[39m\u001b[90mEarCut_jll\u001b[39m\n\u001b[32m  ✓ \u001b[39m\u001b[90mOgg_jll\u001b[39m\n\u001b[32m  ✓ \u001b[39m\u001b[90mx265_jll\u001b[39m\n\u001b[32m  ✓ \u001b[39m\u001b[90mXorg_libXdmcp_jll\u001b[39m\n\u001b[32m  ✓ \u001b[39m\u001b[90mZstd_jll\u001b[39m\n\u001b[32m  ✓ \u001b[39m\u001b[90mx264_jll\u001b[39m\n\u001b[32m  ✓ \u001b[39m\u001b[90mExpat_jll\u001b[39m\n\u001b[32m  ✓ \u001b[39m\u001b[90mLZO_jll\u001b[39m\n\u001b[32m  ✓ \u001b[39m\u001b[90mXorg_xtrans_jll\u001b[39m\n\u001b[32m  ✓ \u001b[39m\u001b[90mOpus_jll\u001b[39m\n\u001b[32m  ✓ \u001b[39m\u001b[90mLibiconv_jll\u001b[39m\n\u001b[32m  ✓ \u001b[39m\u001b[90mLibffi_jll\u001b[39m\n\u001b[32m  ✓ \u001b[39m\u001b[90mWayland_protocols_jll\u001b[39m\n\u001b[32m  ✓ \u001b[39m\u001b[90mPCRE_jll\u001b[39m\n\u001b[32m  ✓ \u001b[39m\u001b[90mTableTraits\u001b[39m\n\u001b[32m  ✓ \u001b[39m\u001b[90mLibgpg_error_jll\u001b[39m\n\u001b[32m  ✓ \u001b[39m\u001b[90mXorg_libpthread_stubs_jll\u001b[39m\n\u001b[32m  ✓ \u001b[39m\u001b[90mOpenBLAS_jll\u001b[39m\n\u001b[32m  ✓ \u001b[39m\u001b[90mFriBidi_jll\u001b[39m\n\u001b[32m  ✓ \u001b[39m\u001b[90mLibuuid_jll\u001b[39m\n\u001b[32m  ✓ \u001b[39m\u001b[90mShowoff\u001b[39m\n\u001b[32m  ✓ \u001b[39m\u001b[90mOpenSpecFun_jll\u001b[39m\n\u001b[32m  ✓ \u001b[39m\u001b[90mChainRulesCore\u001b[39m\n\u001b[32m  ✓ \u001b[39m\u001b[90mFilePathsBase\u001b[39m\n\u001b[32m  ✓ \u001b[39m\u001b[90mDataStructures\u001b[39m\n\u001b[32m  ✓ \u001b[39m\u001b[90mLatexify\u001b[39m\n\u001b[32m  ✓ \u001b[39m\u001b[90mFileIO\u001b[39m\n\u001b[32m  ✓ \u001b[39m\u001b[90mCodecZlib\u001b[39m\n\u001b[32m  ✓ \u001b[39mDecisionTree\n\u001b[32m  ✓ \u001b[39m\u001b[90mHTTP\u001b[39m\n\u001b[32m  ✓ \u001b[39m\u001b[90mPooledArrays\u001b[39m\n\u001b[32m  ✓ \u001b[39m\u001b[90mMissings\u001b[39m\n\u001b[32m  ✓ \u001b[39m\u001b[90mRelocatableFolders\u001b[39m\n\u001b[32m  ✓ \u001b[39m\u001b[90mFreeType2_jll\u001b[39m\n\u001b[32m  ✓ \u001b[39m\u001b[90mlibvorbis_jll\u001b[39m\n\u001b[32m  ✓ \u001b[39m\u001b[90mContour\u001b[39m\n\u001b[32m  ✓ \u001b[39m\u001b[90mWeakRefStrings\u001b[39m\n\u001b[32m  ✓ \u001b[39m\u001b[90mLibtiff_jll\u001b[39m\n\u001b[32m  ✓ \u001b[39m\u001b[90mlibblastrampoline_jll\u001b[39m\n\u001b[32m  ✓ \u001b[39m\u001b[90mXML2_jll\u001b[39m\n\u001b[32m  ✓ \u001b[39m\u001b[90mTables\u001b[39m\n\u001b[32m  ✓ \u001b[39m\u001b[90mLibgcrypt_jll\u001b[39m\n\u001b[32m  ✓ \u001b[39m\u001b[90mChangesOfVariables\u001b[39m\n\u001b[32m  ✓ \u001b[39m\u001b[90mSortingAlgorithms\u001b[39m\n\u001b[32m  ✓ \u001b[39m\u001b[90mFontconfig_jll\u001b[39m\n\u001b[32m  ✓ \u001b[39m\u001b[90mWayland_jll\u001b[39m\n\u001b[32m  ✓ \u001b[39m\u001b[90mGettext_jll\u001b[39m\n\u001b[32m  ✓ \u001b[39m\u001b[90mStructArrays\u001b[39m\n\u001b[32m  ✓ \u001b[39m\u001b[90mXSLT_jll\u001b[39m\n\u001b[32m  ✓ \u001b[39m\u001b[90mColorTypes\u001b[39m\n\u001b[32m  ✓ \u001b[39m\u001b[90mGlib_jll\u001b[39m\n\u001b[32m  ✓ \u001b[39m\u001b[90mLogExpFunctions\u001b[39m\n\u001b[32m  ✓ \u001b[39m\u001b[90mXorg_libxcb_jll\u001b[39m\n\u001b[32m  ✓ \u001b[39m\u001b[90mPrettyTables\u001b[39m\n\u001b[32m  ✓ \u001b[39mCSV\n\u001b[32m  ✓ \u001b[39m\u001b[90mStatsBase\u001b[39m\n\u001b[32m  ✓ \u001b[39m\u001b[90mXorg_xcb_util_jll\u001b[39m\n\u001b[32m  ✓ \u001b[39m\u001b[90mColors\u001b[39m\n\u001b[32m  ✓ \u001b[39m\u001b[90mXorg_libX11_jll\u001b[39m\n\u001b[32m  ✓ \u001b[39m\u001b[90mXorg_xcb_util_image_jll\u001b[39m\n\u001b[32m  ✓ \u001b[39m\u001b[90mSpecialFunctions\u001b[39m\n\u001b[32m  ✓ \u001b[39m\u001b[90mXorg_xcb_util_keysyms_jll\u001b[39m\n\u001b[32m  ✓ \u001b[39m\u001b[90mXorg_xcb_util_renderutil_jll\u001b[39m\n\u001b[32m  ✓ \u001b[39m\u001b[90mGeometryBasics\u001b[39m\n\u001b[32m  ✓ \u001b[39m\u001b[90mXorg_xcb_util_wm_jll\u001b[39m\n\u001b[32m  ✓ \u001b[39m\u001b[90mXorg_libXrender_jll\u001b[39m\n\u001b[32m  ✓ \u001b[39m\u001b[90mXorg_libXext_jll\u001b[39m\n\u001b[32m  ✓ \u001b[39mJLD2\n\u001b[32m  ✓ \u001b[39m\u001b[90mXorg_libXfixes_jll\u001b[39m\n\u001b[32m  ✓ \u001b[39m\u001b[90mXorg_libxkbfile_jll\u001b[39m\n\u001b[32m  ✓ \u001b[39m\u001b[90mXorg_libXinerama_jll\u001b[39m\n\u001b[32m  ✓ \u001b[39m\u001b[90mXorg_libXrandr_jll\u001b[39m\n\u001b[32m  ✓ \u001b[39m\u001b[90mLibglvnd_jll\u001b[39m\n\u001b[32m  ✓ \u001b[39m\u001b[90mCairo_jll\u001b[39m\n\u001b[32m  ✓ \u001b[39m\u001b[90mXorg_libXcursor_jll\u001b[39m\n\u001b[32m  ✓ \u001b[39m\u001b[90mXorg_libXi_jll\u001b[39m\n\u001b[32m  ✓ \u001b[39m\u001b[90mXorg_xkbcomp_jll\u001b[39m\n\u001b[32m  ✓ \u001b[39m\u001b[90mHarfBuzz_jll\u001b[39m\n\u001b[32m  ✓ \u001b[39m\u001b[90mGLFW_jll\u001b[39m\n\u001b[32m  ✓ \u001b[39m\u001b[90mColorVectorSpace\u001b[39m\n\u001b[32m  ✓ \u001b[39m\u001b[90mXorg_xkeyboard_config_jll\u001b[39m\n\u001b[32m  ✓ \u001b[39m\u001b[90mlibass_jll\u001b[39m\n\u001b[32m  ✓ \u001b[39m\u001b[90mxkbcommon_jll\u001b[39m\n\u001b[32m  ✓ \u001b[39m\u001b[90mFFMPEG_jll\u001b[39m\n\u001b[32m  ✓ \u001b[39m\u001b[90mFFMPEG\u001b[39m\n\u001b[32m  ✓ \u001b[39m\u001b[90mQt5Base_jll\u001b[39m\n\u001b[32m  ✓ \u001b[39m\u001b[90mGR_jll\u001b[39m\n\u001b[32m  ✓ \u001b[39m\u001b[90mGR\u001b[39m\n\u001b[32m  ✓ \u001b[39m\u001b[90mColorSchemes\u001b[39m\n\u001b[32m  ✓ \u001b[39m\u001b[90mPlotUtils\u001b[39m\n\u001b[32m  ✓ \u001b[39m\u001b[90mRecipesPipeline\u001b[39m\n\u001b[32m  ✓ \u001b[39m\u001b[90mPlotThemes\u001b[39m\n\u001b[32m  ✓ \u001b[39mDataFrames\n\u001b[32m  ✓ \u001b[39mPlots\n  142 dependencies successfully precompiled in 86 seconds (15 already precompiled)\n\u001b[32m\u001b[1m   Resolving\u001b[22m\u001b[39m package versions...\n\u001b[32m\u001b[1m   Installed\u001b[22m\u001b[39m CategoricalArrays ─ v0.10.6\n\u001b[32m\u001b[1m    Updating\u001b[22m\u001b[39m `~/.julia/environments/v1.7/Project.toml`\n \u001b[90m [324d7699] \u001b[39m\u001b[92m+ CategoricalArrays v0.10.6\u001b[39m\n\u001b[32m\u001b[1m    Updating\u001b[22m\u001b[39m `~/.julia/environments/v1.7/Manifest.toml`\n \u001b[90m [324d7699] \u001b[39m\u001b[92m+ CategoricalArrays v0.10.6\u001b[39m\n\u001b[32m\u001b[1mPrecompiling\u001b[22m\u001b[39m project...\n\u001b[32m  ✓ \u001b[39mCategoricalArrays\n  1 dependency successfully precompiled in 1 seconds (157 already precompiled)\n"
        }
      ],
      "execution_count": 1,
      "metadata": {}
    },
    {
      "cell_type": "code",
      "source": [
        "using CSV, DataFrames, Plots, DecisionTree"
      ],
      "outputs": [],
      "execution_count": 2,
      "metadata": {
        "jupyter": {
          "source_hidden": false,
          "outputs_hidden": false
        },
        "nteract": {
          "transient": {
            "deleting": false
          }
        }
      }
    },
    {
      "cell_type": "code",
      "source": [
        "input_dataset = \"https://azuremlexamples.blob.core.windows.net/datasets/iris.csv\"\r\n",
        "df = CSV.read(download(input_dataset), DataFrame)"
      ],
      "outputs": [
        {
          "output_type": "execute_result",
          "execution_count": 3,
          "data": {
            "text/plain": "\u001b[1m150×5 DataFrame\u001b[0m\n\u001b[1m Row \u001b[0m│\u001b[1m sepal_length \u001b[0m\u001b[1m sepal_width \u001b[0m\u001b[1m petal_length \u001b[0m\u001b[1m petal_width \u001b[0m\u001b[1m species        \u001b[0m\n\u001b[1m     \u001b[0m│\u001b[90m Float64      \u001b[0m\u001b[90m Float64     \u001b[0m\u001b[90m Float64      \u001b[0m\u001b[90m Float64     \u001b[0m\u001b[90m String15       \u001b[0m\n─────┼──────────────────────────────────────────────────────────────────────\n   1 │          5.1          3.5           1.4          0.2  Iris-setosa\n   2 │          4.9          3.0           1.4          0.2  Iris-setosa\n   3 │          4.7          3.2           1.3          0.2  Iris-setosa\n   4 │          4.6          3.1           1.5          0.2  Iris-setosa\n   5 │          5.0          3.6           1.4          0.2  Iris-setosa\n   6 │          5.4          3.9           1.7          0.4  Iris-setosa\n   7 │          4.6          3.4           1.4          0.3  Iris-setosa\n   8 │          5.0          3.4           1.5          0.2  Iris-setosa\n   9 │          4.4          2.9           1.4          0.2  Iris-setosa\n  10 │          4.9          3.1           1.5          0.1  Iris-setosa\n  11 │          5.4          3.7           1.5          0.2  Iris-setosa\n  ⋮  │      ⋮             ⋮            ⋮             ⋮             ⋮\n 141 │          6.7          3.1           5.6          2.4  Iris-virginica\n 142 │          6.9          3.1           5.1          2.3  Iris-virginica\n 143 │          5.8          2.7           5.1          1.9  Iris-virginica\n 144 │          6.8          3.2           5.9          2.3  Iris-virginica\n 145 │          6.7          3.3           5.7          2.5  Iris-virginica\n 146 │          6.7          3.0           5.2          2.3  Iris-virginica\n 147 │          6.3          2.5           5.0          1.9  Iris-virginica\n 148 │          6.5          3.0           5.2          2.0  Iris-virginica\n 149 │          6.2          3.4           5.4          2.3  Iris-virginica\n 150 │          5.9          3.0           5.1          1.8  Iris-virginica\n\u001b[36m                                                            129 rows omitted\u001b[0m",
            "text/html": "<div class=\"data-frame\"><p>150 rows × 5 columns</p><table class=\"data-frame\"><thead><tr><th></th><th>sepal_length</th><th>sepal_width</th><th>petal_length</th><th>petal_width</th><th>species</th></tr><tr><th></th><th title=\"Float64\">Float64</th><th title=\"Float64\">Float64</th><th title=\"Float64\">Float64</th><th title=\"Float64\">Float64</th><th title=\"String15\">String15</th></tr></thead><tbody><tr><th>1</th><td>5.1</td><td>3.5</td><td>1.4</td><td>0.2</td><td>Iris-setosa</td></tr><tr><th>2</th><td>4.9</td><td>3.0</td><td>1.4</td><td>0.2</td><td>Iris-setosa</td></tr><tr><th>3</th><td>4.7</td><td>3.2</td><td>1.3</td><td>0.2</td><td>Iris-setosa</td></tr><tr><th>4</th><td>4.6</td><td>3.1</td><td>1.5</td><td>0.2</td><td>Iris-setosa</td></tr><tr><th>5</th><td>5.0</td><td>3.6</td><td>1.4</td><td>0.2</td><td>Iris-setosa</td></tr><tr><th>6</th><td>5.4</td><td>3.9</td><td>1.7</td><td>0.4</td><td>Iris-setosa</td></tr><tr><th>7</th><td>4.6</td><td>3.4</td><td>1.4</td><td>0.3</td><td>Iris-setosa</td></tr><tr><th>8</th><td>5.0</td><td>3.4</td><td>1.5</td><td>0.2</td><td>Iris-setosa</td></tr><tr><th>9</th><td>4.4</td><td>2.9</td><td>1.4</td><td>0.2</td><td>Iris-setosa</td></tr><tr><th>10</th><td>4.9</td><td>3.1</td><td>1.5</td><td>0.1</td><td>Iris-setosa</td></tr><tr><th>11</th><td>5.4</td><td>3.7</td><td>1.5</td><td>0.2</td><td>Iris-setosa</td></tr><tr><th>12</th><td>4.8</td><td>3.4</td><td>1.6</td><td>0.2</td><td>Iris-setosa</td></tr><tr><th>13</th><td>4.8</td><td>3.0</td><td>1.4</td><td>0.1</td><td>Iris-setosa</td></tr><tr><th>14</th><td>4.3</td><td>3.0</td><td>1.1</td><td>0.1</td><td>Iris-setosa</td></tr><tr><th>15</th><td>5.8</td><td>4.0</td><td>1.2</td><td>0.2</td><td>Iris-setosa</td></tr><tr><th>16</th><td>5.7</td><td>4.4</td><td>1.5</td><td>0.4</td><td>Iris-setosa</td></tr><tr><th>17</th><td>5.4</td><td>3.9</td><td>1.3</td><td>0.4</td><td>Iris-setosa</td></tr><tr><th>18</th><td>5.1</td><td>3.5</td><td>1.4</td><td>0.3</td><td>Iris-setosa</td></tr><tr><th>19</th><td>5.7</td><td>3.8</td><td>1.7</td><td>0.3</td><td>Iris-setosa</td></tr><tr><th>20</th><td>5.1</td><td>3.8</td><td>1.5</td><td>0.3</td><td>Iris-setosa</td></tr><tr><th>21</th><td>5.4</td><td>3.4</td><td>1.7</td><td>0.2</td><td>Iris-setosa</td></tr><tr><th>22</th><td>5.1</td><td>3.7</td><td>1.5</td><td>0.4</td><td>Iris-setosa</td></tr><tr><th>23</th><td>4.6</td><td>3.6</td><td>1.0</td><td>0.2</td><td>Iris-setosa</td></tr><tr><th>24</th><td>5.1</td><td>3.3</td><td>1.7</td><td>0.5</td><td>Iris-setosa</td></tr><tr><th>25</th><td>4.8</td><td>3.4</td><td>1.9</td><td>0.2</td><td>Iris-setosa</td></tr><tr><th>26</th><td>5.0</td><td>3.0</td><td>1.6</td><td>0.2</td><td>Iris-setosa</td></tr><tr><th>27</th><td>5.0</td><td>3.4</td><td>1.6</td><td>0.4</td><td>Iris-setosa</td></tr><tr><th>28</th><td>5.2</td><td>3.5</td><td>1.5</td><td>0.2</td><td>Iris-setosa</td></tr><tr><th>29</th><td>5.2</td><td>3.4</td><td>1.4</td><td>0.2</td><td>Iris-setosa</td></tr><tr><th>30</th><td>4.7</td><td>3.2</td><td>1.6</td><td>0.2</td><td>Iris-setosa</td></tr><tr><th>&vellip;</th><td>&vellip;</td><td>&vellip;</td><td>&vellip;</td><td>&vellip;</td><td>&vellip;</td></tr></tbody></table></div>",
            "text/latex": "\\begin{tabular}{r|ccccc}\n\t& sepal\\_length & sepal\\_width & petal\\_length & petal\\_width & species\\\\\n\t\\hline\n\t& Float64 & Float64 & Float64 & Float64 & String15\\\\\n\t\\hline\n\t1 & 5.1 & 3.5 & 1.4 & 0.2 & Iris-setosa \\\\\n\t2 & 4.9 & 3.0 & 1.4 & 0.2 & Iris-setosa \\\\\n\t3 & 4.7 & 3.2 & 1.3 & 0.2 & Iris-setosa \\\\\n\t4 & 4.6 & 3.1 & 1.5 & 0.2 & Iris-setosa \\\\\n\t5 & 5.0 & 3.6 & 1.4 & 0.2 & Iris-setosa \\\\\n\t6 & 5.4 & 3.9 & 1.7 & 0.4 & Iris-setosa \\\\\n\t7 & 4.6 & 3.4 & 1.4 & 0.3 & Iris-setosa \\\\\n\t8 & 5.0 & 3.4 & 1.5 & 0.2 & Iris-setosa \\\\\n\t9 & 4.4 & 2.9 & 1.4 & 0.2 & Iris-setosa \\\\\n\t10 & 4.9 & 3.1 & 1.5 & 0.1 & Iris-setosa \\\\\n\t11 & 5.4 & 3.7 & 1.5 & 0.2 & Iris-setosa \\\\\n\t12 & 4.8 & 3.4 & 1.6 & 0.2 & Iris-setosa \\\\\n\t13 & 4.8 & 3.0 & 1.4 & 0.1 & Iris-setosa \\\\\n\t14 & 4.3 & 3.0 & 1.1 & 0.1 & Iris-setosa \\\\\n\t15 & 5.8 & 4.0 & 1.2 & 0.2 & Iris-setosa \\\\\n\t16 & 5.7 & 4.4 & 1.5 & 0.4 & Iris-setosa \\\\\n\t17 & 5.4 & 3.9 & 1.3 & 0.4 & Iris-setosa \\\\\n\t18 & 5.1 & 3.5 & 1.4 & 0.3 & Iris-setosa \\\\\n\t19 & 5.7 & 3.8 & 1.7 & 0.3 & Iris-setosa \\\\\n\t20 & 5.1 & 3.8 & 1.5 & 0.3 & Iris-setosa \\\\\n\t21 & 5.4 & 3.4 & 1.7 & 0.2 & Iris-setosa \\\\\n\t22 & 5.1 & 3.7 & 1.5 & 0.4 & Iris-setosa \\\\\n\t23 & 4.6 & 3.6 & 1.0 & 0.2 & Iris-setosa \\\\\n\t24 & 5.1 & 3.3 & 1.7 & 0.5 & Iris-setosa \\\\\n\t25 & 4.8 & 3.4 & 1.9 & 0.2 & Iris-setosa \\\\\n\t26 & 5.0 & 3.0 & 1.6 & 0.2 & Iris-setosa \\\\\n\t27 & 5.0 & 3.4 & 1.6 & 0.4 & Iris-setosa \\\\\n\t28 & 5.2 & 3.5 & 1.5 & 0.2 & Iris-setosa \\\\\n\t29 & 5.2 & 3.4 & 1.4 & 0.2 & Iris-setosa \\\\\n\t30 & 4.7 & 3.2 & 1.6 & 0.2 & Iris-setosa \\\\\n\t$\\dots$ & $\\dots$ & $\\dots$ & $\\dots$ & $\\dots$ & $\\dots$ \\\\\n\\end{tabular}\n"
          },
          "metadata": {}
        }
      ],
      "execution_count": 3,
      "metadata": {
        "jupyter": {
          "source_hidden": false,
          "outputs_hidden": false
        },
        "nteract": {
          "transient": {
            "deleting": false
          }
        }
      }
    },
    {
      "cell_type": "code",
      "source": [
        "using DecisionTree\r\n",
        "using CategoricalArrays"
      ],
      "outputs": [],
      "execution_count": 4,
      "metadata": {
        "jupyter": {
          "source_hidden": false,
          "outputs_hidden": false
        },
        "nteract": {
          "transient": {
            "deleting": false
          }
        }
      }
    },
    {
      "cell_type": "code",
      "source": [
        "features = Matrix(df[:, 1:4])\r\n",
        "labels = categorical(df[:, 5])"
      ],
      "outputs": [
        {
          "output_type": "execute_result",
          "execution_count": 21,
          "data": {
            "text/plain": "150-element CategoricalArray{String15,1,UInt32}:\n \"Iris-setosa\"\n \"Iris-setosa\"\n \"Iris-setosa\"\n \"Iris-setosa\"\n \"Iris-setosa\"\n \"Iris-setosa\"\n \"Iris-setosa\"\n \"Iris-setosa\"\n \"Iris-setosa\"\n \"Iris-setosa\"\n \"Iris-setosa\"\n \"Iris-setosa\"\n \"Iris-setosa\"\n ⋮\n \"Iris-virginica\"\n \"Iris-virginica\"\n \"Iris-virginica\"\n \"Iris-virginica\"\n \"Iris-virginica\"\n \"Iris-virginica\"\n \"Iris-virginica\"\n \"Iris-virginica\"\n \"Iris-virginica\"\n \"Iris-virginica\"\n \"Iris-virginica\"\n \"Iris-virginica\""
          },
          "metadata": {}
        }
      ],
      "execution_count": 21,
      "metadata": {
        "jupyter": {
          "source_hidden": false,
          "outputs_hidden": false
        },
        "nteract": {
          "transient": {
            "deleting": false
          }
        }
      }
    },
    {
      "cell_type": "code",
      "source": [
        "# train adaptive-boosted stumps, using 7 iterations\r\n",
        "model, coeffs = build_adaboost_stumps(labels, features, 7);"
      ],
      "outputs": [],
      "execution_count": 6,
      "metadata": {
        "jupyter": {
          "source_hidden": false,
          "outputs_hidden": false
        },
        "nteract": {
          "transient": {
            "deleting": false
          }
        }
      }
    },
    {
      "cell_type": "code",
      "source": [
        "# Quick test\r\n",
        "sample = [5.9,3.0,5.1,1.9]\r\n",
        "apply_adaboost_stumps(model, coeffs, sample)"
      ],
      "outputs": [
        {
          "output_type": "execute_result",
          "execution_count": 7,
          "data": {
            "text/plain": "CategoricalValue{String15, UInt32} \"Iris-virginica\""
          },
          "metadata": {}
        }
      ],
      "execution_count": 7,
      "metadata": {
        "jupyter": {
          "source_hidden": false,
          "outputs_hidden": false
        },
        "nteract": {
          "transient": {
            "deleting": false
          }
        }
      }
    },
    {
      "cell_type": "code",
      "source": [
        "apply_adaboost_stumps_proba(model, coeffs, sample, categorical(levels(labels)))"
      ],
      "outputs": [
        {
          "output_type": "execute_result",
          "execution_count": 8,
          "data": {
            "text/plain": "3-element Vector{Float64}:\n 0.0\n 0.2806601104805074\n 0.7193398895194926"
          },
          "metadata": {}
        }
      ],
      "execution_count": 8,
      "metadata": {
        "jupyter": {
          "source_hidden": false,
          "outputs_hidden": false
        },
        "nteract": {
          "transient": {
            "deleting": false
          }
        }
      }
    },
    {
      "cell_type": "code",
      "source": [
        "# run n-fold cross validation for boosted stumps, using 7 iterations and 3 folds\r\n",
        "accuracy = nfoldCV_stumps(labels, features, 7, 3)"
      ],
      "outputs": [
        {
          "output_type": "stream",
          "name": "stdout",
          "text": "\nFold 1\nClasses:  String15[\"Iris-setosa\", \"Iris-versicolor\", \"Iris-virginica\"]\nMatrix:   \nAccuracy: 0.9523809523809523\nKappa:    0.9260563380281689\n\nFold 2\nClasses:  String15[\"Iris-setosa\", \"Iris-versicolor\", \"Iris-virginica\"]\nMatrix:   \nAccuracy: 0.9523809523809523\nKappa:    0.923076923076923\n\nFold 3\nClasses:  String15[\"Iris-setosa\", \"Iris-versicolor\", \"Iris-virginica\"]\nMatrix:   \nAccuracy: 0.8095238095238095\nKappa:    0.7083333333333333\n\nFold 4\nClasses:  String15[\"Iris-setosa\", \"Iris-versicolor\", \"Iris-virginica\"]\nMatrix:   \nAccuracy: 0.9523809523809523\nKappa:    0.9260563380281689\n\nFold 5\nClasses:  String15[\"Iris-setosa\", \"Iris-versicolor\", \"Iris-virginica\"]\nMatrix:   \nAccuracy: 0.9523809523809523\nKappa:    0.9260563380281689\n\nFold 6\nClasses:  String15[\"Iris-setosa\", \"Iris-versicolor\", \"Iris-virginica\"]\nMatrix:   \nAccuracy: 1.0\nKappa:    1.0\n\nFold 7\nClasses:  String15[\"Iris-setosa\", \"Iris-versicolor\", \"Iris-virginica\"]\nMatrix:   \nAccuracy: 0.9523809523809523\nKappa:    0.9285714285714285\n\nMean Accuracy: 0.9387755102040817\n"
        },
        {
          "output_type": "execute_result",
          "execution_count": 9,
          "data": {
            "text/plain": "7-element Vector{Float64}:\n 0.9523809523809523\n 0.9523809523809523\n 0.8095238095238095\n 0.9523809523809523\n 0.9523809523809523\n 1.0\n 0.9523809523809523"
          },
          "metadata": {}
        },
        {
          "output_type": "display_data",
          "data": {
            "text/plain": "3×3 Matrix{Int64}:\n 5  0  0\n 0  6  0\n 0  1  9\n3×3 Matrix{Int64}:\n 10  0  0\n  0  7  0\n  0  1  3\n3×3 Matrix{Int64}:\n 7  0  0\n 0  3  1\n 0  3  7\n3×3 Matrix{Int64}:\n 5  0  0\n 0  9  0\n 0  1  6\n3×3 Matrix{Int64}:\n 5  0  0\n 0  9  1\n 0  0  6\n3×3 Matrix{Int64}:\n 10  0  0\n  0  5  0\n  0  0  6\n3×3 Matrix{Int64}:\n 7  0  0\n 0  7  0\n 0  1  6"
          },
          "metadata": {}
        }
      ],
      "execution_count": 9,
      "metadata": {
        "jupyter": {
          "source_hidden": false,
          "outputs_hidden": false
        },
        "nteract": {
          "transient": {
            "deleting": false
          }
        }
      }
    },
    {
      "cell_type": "code",
      "source": [
        "using JLD2"
      ],
      "outputs": [],
      "execution_count": 10,
      "metadata": {
        "jupyter": {
          "source_hidden": false,
          "outputs_hidden": false
        },
        "nteract": {
          "transient": {
            "deleting": false
          }
        }
      }
    },
    {
      "cell_type": "code",
      "source": [
        "mkpath(\"outputs\")\r\n",
        "@save \"outputs/iris.jld2\" model\r\n",
        "@save \"outputs/coef.jld2\" coeffs"
      ],
      "outputs": [],
      "execution_count": 11,
      "metadata": {
        "jupyter": {
          "source_hidden": false,
          "outputs_hidden": false
        },
        "nteract": {
          "transient": {
            "deleting": false
          }
        }
      }
    },
    {
      "cell_type": "markdown",
      "source": [
        "## Trying to load the model back"
      ],
      "metadata": {
        "nteract": {
          "transient": {
            "deleting": false
          }
        }
      }
    },
    {
      "cell_type": "code",
      "source": [
        "using JLD2\r\n",
        "\r\n",
        "trained_model = load(\"outputs/iris.jld2\")\r\n",
        "trained_coeffs = load(\"outputs/coef.jld2\")"
      ],
      "outputs": [
        {
          "output_type": "execute_result",
          "execution_count": 13,
          "data": {
            "text/plain": "Dict{String, Any} with 1 entry:\n  \"coeffs\" => [0.346574, 0.255413, 0.264577, 0.335749, 0.288846, 0.258287, 0.35…"
          },
          "metadata": {}
        }
      ],
      "execution_count": 13,
      "metadata": {
        "jupyter": {
          "source_hidden": false,
          "outputs_hidden": false
        },
        "nteract": {
          "transient": {
            "deleting": false
          }
        }
      }
    },
    {
      "cell_type": "code",
      "source": [
        "trained_model[\"model\"]"
      ],
      "outputs": [
        {
          "output_type": "execute_result",
          "execution_count": 25,
          "data": {
            "text/plain": "Ensemble of Decision Trees\nTrees:      7\nAvg Leaves: 2.0\nAvg Depth:  1.0"
          },
          "metadata": {}
        }
      ],
      "execution_count": 25,
      "metadata": {
        "jupyter": {
          "source_hidden": false,
          "outputs_hidden": false
        },
        "nteract": {
          "transient": {
            "deleting": false
          }
        }
      }
    },
    {
      "cell_type": "code",
      "source": [
        "labels = categorical([String15(\"Iris-setosa\"), String15(\"Iris-versicolor\"), String15(\"Iris-virginica\")])"
      ],
      "outputs": [
        {
          "output_type": "execute_result",
          "execution_count": 24,
          "data": {
            "text/plain": "3-element CategoricalArray{String15,1,UInt32}:\n \"Iris-setosa\"\n \"Iris-versicolor\"\n \"Iris-virginica\""
          },
          "metadata": {}
        }
      ],
      "execution_count": 24,
      "metadata": {
        "jupyter": {
          "source_hidden": false,
          "outputs_hidden": false
        },
        "nteract": {
          "transient": {
            "deleting": false
          }
        }
      }
    },
    {
      "cell_type": "code",
      "source": [
        "scores = apply_adaboost_stumps_proba(trained_model[\"model\"], trained_coeffs[\"coeffs\"], features, labels)"
      ],
      "outputs": [
        {
          "output_type": "execute_result",
          "execution_count": 26,
          "data": {
            "text/plain": "150×3 Matrix{Float64}:\n 0.582332  0.417668  0.0\n 0.582332  0.417668  0.0\n 0.582332  0.417668  0.0\n 0.582332  0.417668  0.0\n 0.582332  0.417668  0.0\n 0.582332  0.417668  0.0\n 0.582332  0.417668  0.0\n 0.582332  0.417668  0.0\n 0.582332  0.417668  0.0\n 0.582332  0.417668  0.0\n 0.582332  0.417668  0.0\n 0.582332  0.417668  0.0\n 0.582332  0.417668  0.0\n ⋮                   \n 0.0       0.403284  0.596716\n 0.0       0.28066   0.71934\n 0.0       0.28066   0.71934\n 0.0       0.28066   0.71934\n 0.0       0.28066   0.71934\n 0.0       0.28066   0.71934\n 0.0       0.28066   0.71934\n 0.0       0.28066   0.71934\n 0.0       0.28066   0.71934\n 0.0       0.28066   0.71934\n 0.0       0.28066   0.71934\n 0.0       0.28066   0.71934"
          },
          "metadata": {}
        }
      ],
      "execution_count": 26,
      "metadata": {
        "jupyter": {
          "source_hidden": false,
          "outputs_hidden": false
        },
        "nteract": {
          "transient": {
            "deleting": false
          }
        }
      }
    },
    {
      "cell_type": "code",
      "source": [
        "CSV.write(\"outputs/predictions.csv\", Tables.table(scores))"
      ],
      "outputs": [
        {
          "output_type": "execute_result",
          "execution_count": 48,
          "data": {
            "text/plain": "\"outputs/predictions.csv\""
          },
          "metadata": {}
        }
      ],
      "execution_count": 48,
      "metadata": {
        "jupyter": {
          "source_hidden": false,
          "outputs_hidden": false
        },
        "nteract": {
          "transient": {
            "deleting": false
          }
        }
      }
    }
  ],
  "metadata": {
    "kernelspec": {
      "name": "julia-1.7",
      "language": "julia",
      "display_name": "Julia 1.7.3"
    },
    "language_info": {
      "file_extension": ".jl",
      "name": "julia",
      "mimetype": "application/julia",
      "version": "1.7.3"
    },
    "kernel_info": {
      "name": "julia-1.7"
    },
    "nteract": {
      "version": "nteract-front-end@1.0.0"
    }
  },
  "nbformat": 4,
  "nbformat_minor": 0
}